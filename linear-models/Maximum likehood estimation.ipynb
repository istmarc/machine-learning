{
 "cells": [
  {
   "cell_type": "markdown",
   "id": "c216d2e1-18a4-4220-9b42-ca5d67296e63",
   "metadata": {},
   "source": [
    "# Maximum likehood estimation"
   ]
  },
  {
   "cell_type": "markdown",
   "id": "733c3816-f1cc-4020-a8c2-8f42b276a71e",
   "metadata": {},
   "source": [
    "## Import libraries"
   ]
  },
  {
   "cell_type": "code",
   "execution_count": 1,
   "id": "60942c3b-5b3e-4e33-a2e2-8e80a59de61e",
   "metadata": {},
   "outputs": [],
   "source": [
    "import numpy as np\n",
    "import matplotlib\n",
    "import matplotlib.pyplot as plt\n",
    "matplotlib.style.use(\"science\")\n",
    "np.random.seed = 123"
   ]
  },
  {
   "cell_type": "markdown",
   "id": "079ef705-64be-404f-9d6f-304c34a3b7fd",
   "metadata": {},
   "source": [
    "## Generate dataset"
   ]
  },
  {
   "cell_type": "code",
   "execution_count": 2,
   "id": "ec5cbb5a-33ab-486f-be35-9ddd48947943",
   "metadata": {},
   "outputs": [],
   "source": [
    "n = 10\n",
    "x = 10 * np.random.rand(n)\n",
    "y = 2 * x + np.random.randn(n)"
   ]
  },
  {
   "cell_type": "code",
   "execution_count": 3,
   "id": "61114a3f-f5bf-46a6-b1d8-aef13b40ad1c",
   "metadata": {},
   "outputs": [
    {
     "data": {
      "image/png": "[encoded data removed]",
      "text/plain": [
       "<Figure size 400x400 with 1 Axes>"
      ]
     },
     "metadata": {},
     "output_type": "display_data"
    }
   ],
   "source": [
    "fig = plt.figure(figsize = (4, 4))\n",
    "plt.scatter(x, y)\n",
    "plt.title(\"data\")\n",
    "plt.show()"
   ]
  },
  {
   "cell_type": "markdown",
   "id": "5d48ad3a-65fe-4c40-9368-ff9a8342ffcb",
   "metadata": {},
   "source": [
    "## The likehood for linear regression"
   ]
  },
  {
   "cell_type": "markdown",
   "id": "b31a2f0c-6bba-4c33-b3b2-2a826c259fb9",
   "metadata": {},
   "source": [
    "Let $y_i \\sim N(x_i^T \\Theta, \\sigma^2) = x_i^T \\Theta + N(0, \\sigma^2)$ "
   ]
  },
  {
   "cell_type": "markdown",
   "id": "5d314540-fbfd-4782-95dc-45498d07c7b3",
   "metadata": {},
   "source": [
    "The likehood to maximize"
   ]
  },
  {
   "cell_type": "markdown",
   "id": "32e9a19e-ecbc-4467-ada3-82d5c3caf744",
   "metadata": {},
   "source": [
    "$$p(y/X,\\Theta, \\sigma) = \\prod_{i=1}^{n} p(y_i/x_i, \\Theta, \\sigma)\n",
    "                        = (2\\pi\\sigma^2)^{-n/2} \\exp^{-\\frac{1}{2\\sigma^2}(y-X\\Theta)^T(y-X\\Theta)}$$"
   ]
  },
  {
   "cell_type": "markdown",
   "id": "be790325-bf4b-4d1b-be6c-c049b1228a7c",
   "metadata": {},
   "source": [
    "Objective function to minimize"
   ]
  },
  {
   "cell_type": "markdown",
   "id": "6d847202-9a9c-4346-898b-e88a95ecc7d9",
   "metadata": {},
   "source": [
    "$$J(\\Theta) = \\sum_{i=1}^{n}(y_i - x_i^T \\Theta)^2$$"
   ]
  },
  {
   "cell_type": "markdown",
   "id": "60e381ed-c779-46f5-a678-a4941ceeeaac",
   "metadata": {},
   "source": [
    "## MLE Estimate for $\\Theta$"
   ]
  },
  {
   "cell_type": "markdown",
   "id": "a075f71d-1bc3-42e1-a81a-3b9497d99103",
   "metadata": {},
   "source": [
    "log-likehood $l(\\Theta) = \\log p(y / X, \\Theta, \\sigma)$ "
   ]
  },
  {
   "cell_type": "markdown",
   "id": "abbb7c10-7c69-444d-a4ae-9935c8408d72",
   "metadata": {},
   "source": [
    "$$l(\\Theta) = -\\frac{n}{2} \\log (2\\pi\\sigma^2) - \\frac{1}{2\\sigma^2}(y-x\\Theta)^T(y-X\\Theta)$$"
   ]
  },
  {
   "cell_type": "markdown",
   "id": "a1a7e986-1922-4f24-92df-d2f4a3805e63",
   "metadata": {},
   "source": [
    "$\\partial l(\\Theta) /  \\partial \\Theta = 0$ gives $-\\frac{1}{2\\sigma^2} [-2X^Ty + 2X^TX\\Theta] = 0$"
   ]
  },
  {
   "cell_type": "markdown",
   "id": "3a10074b-5c65-457d-a4ac-348c403e6ddd",
   "metadata": {},
   "source": [
    "$$\\hat{\\Theta}_{ML} = (X^TX)^{-1}X^Ty$$"
   ]
  },
  {
   "cell_type": "code",
   "execution_count": 4,
   "id": "fc97c4b9-99fe-4c36-958a-90819a6dbc6f",
   "metadata": {},
   "outputs": [
    {
     "data": {
      "text/plain": [
       "array([[1.        , 6.45897565],\n",
       "       [1.        , 9.02641146],\n",
       "       [1.        , 0.43237584],\n",
       "       [1.        , 0.85842474],\n",
       "       [1.        , 4.74418319],\n",
       "       [1.        , 7.00438569],\n",
       "       [1.        , 1.85634471],\n",
       "       [1.        , 1.79102015],\n",
       "       [1.        , 0.93457875],\n",
       "       [1.        , 7.78914655]])"
      ]
     },
     "execution_count": 4,
     "metadata": {},
     "output_type": "execute_result"
    }
   ],
   "source": [
    "X = np.ones((n, 2))\n",
    "for i in range(n):\n",
    "    X[i][1] = x[i]\n",
    "X"
   ]
  },
  {
   "cell_type": "code",
   "execution_count": 5,
   "id": "6dc5d430-08fb-41a4-afaa-819c519ecc46",
   "metadata": {},
   "outputs": [
    {
     "data": {
      "text/plain": [
       "array([-0.29808312,  2.03838205])"
      ]
     },
     "execution_count": 5,
     "metadata": {},
     "output_type": "execute_result"
    }
   ],
   "source": [
    "theta_hat = np.linalg.inv(X.T @ X) @ X.T @ y\n",
    "theta_hat"
   ]
  },
  {
   "cell_type": "markdown",
   "id": "9f60be2c-975c-49d5-88b1-d8de59119848",
   "metadata": {},
   "source": [
    "**Visual checking**"
   ]
  },
  {
   "cell_type": "code",
   "execution_count": 6,
   "id": "10291a27-4c6e-48f0-87de-188a6d170e16",
   "metadata": {},
   "outputs": [
    {
     "data": {
      "image/png": "[encoded data removed]",
      "text/plain": [
       "<Figure size 400x400 with 1 Axes>"
      ]
     },
     "metadata": {},
     "output_type": "display_data"
    }
   ],
   "source": [
    "fig = plt.figure(figsize = (4, 4))\n",
    "plt.scatter(x, y, color = \"grey\")\n",
    "line_x = np.arange(10)\n",
    "line_ = theta_hat[1] * line_x + theta_hat[0]\n",
    "plt.plot(line_)\n",
    "plt.title(\"MLE estimate for $\\Theta$\")\n",
    "plt.show()"
   ]
  },
  {
   "cell_type": "markdown",
   "id": "5622ea25-eee1-4d3f-a4a4-1adf72d59b3f",
   "metadata": {},
   "source": [
    "## MLE Estimate for $\\sigma$"
   ]
  },
  {
   "cell_type": "markdown",
   "id": "ba69f4b6-2b19-4a9d-9607-aa1c8d64af52",
   "metadata": {},
   "source": [
    "log-likehood $l(\\Theta) = \\log p(y / X, \\Theta, \\sigma)$ "
   ]
  },
  {
   "cell_type": "markdown",
   "id": "b8afbdee-7afb-4689-9341-ededbddc263a",
   "metadata": {},
   "source": [
    "$$l(\\sigma) = -\\frac{n}{2} \\log (2\\pi\\sigma^2) - \\frac{1}{2\\sigma^2}(y-x\\Theta)^T(y-X\\Theta)$$"
   ]
  },
  {
   "cell_type": "markdown",
   "id": "d259eaaf-be50-4445-8460-6ddd321e53cc",
   "metadata": {},
   "source": [
    "$\\partial l(\\sigma) /  \\partial \\sigma = 0$ gives \n",
    "$\\frac{1}{n} (y-X\\Theta)^T(y-X\\Theta) = 1/n \\sum_{i=1}^{n} (y_i - x_i^T\\Theta)$"
   ]
  },
  {
   "cell_type": "markdown",
   "id": "ba7a3532-22c5-475c-9437-02070010ad3e",
   "metadata": {},
   "source": [
    "$$\\hat{\\sigma}_{ML} = \\frac{1}{n} (y-X\\Theta)^T(y-X\\Theta)$$"
   ]
  },
  {
   "cell_type": "code",
   "execution_count": 7,
   "id": "4502b6c1-4bdf-42fa-8c91-1d23cfd8296c",
   "metadata": {},
   "outputs": [
    {
     "data": {
      "text/plain": [
       "0.7493246777838546"
      ]
     },
     "execution_count": 7,
     "metadata": {},
     "output_type": "execute_result"
    }
   ],
   "source": [
    "sigma_hat = 1/n * (y - X @ theta_hat).T @ (y - X @ theta_hat)\n",
    "sigma_hat"
   ]
  },
  {
   "cell_type": "code",
   "execution_count": null,
   "id": "38c41b7d-d035-4aaa-87d5-59369dc8dcc8",
   "metadata": {},
   "outputs": [],
   "source": []
  }
 ],
 "metadata": {
  "kernelspec": {
   "display_name": "Python 3 (ipykernel)",
   "language": "python",
   "name": "python3"
  },
  "language_info": {
   "codemirror_mode": {
    "name": "ipython",
    "version": 3
   },
   "file_extension": ".py",
   "mimetype": "text/x-python",
   "name": "python",
   "nbconvert_exporter": "python",
   "pygments_lexer": "ipython3",
   "version": "3.11.5"
  }
 },
 "nbformat": 4,
 "nbformat_minor": 5
}
